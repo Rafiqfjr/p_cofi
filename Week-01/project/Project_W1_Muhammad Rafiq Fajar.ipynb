{
 "cells": [
  {
   "cell_type": "markdown",
   "metadata": {
    "id": "gVVGjd4mZWOS"
   },
   "source": [
    "## Question No. 1 \n",
    "Buatlah sebuah program untuk melakukan pendataan penduduk dari NIK untuk mengetahui Umur dan Jenis Kelamin\n",
    "\n",
    "*Note:*\n",
    "- Untuk **PRIA** tanggal lahirnya memiliki format dd-mm-yy\n",
    "- Untuk **WANITA** tanggal lahirnya memiliki format (dd+40) - mm - yy\n",
    "\n",
    "`EXAMPLE 1`:\n",
    "\n",
    "Input:\n",
    "\n",
    "> 3172014212960005\n",
    "\n",
    "Output\n",
    "\n",
    "> Perempuan, 26 (Age)\n",
    "\n",
    "`EXAMPLE 2`:\n",
    "\n",
    "Input:\n",
    "\n",
    "> 3172042211950004\n",
    "\n",
    "Output\n",
    "\n",
    "> Pria, 27"
   ]
  },
  {
   "cell_type": "markdown",
   "metadata": {
    "id": "GiSBqj_WZdLr"
   },
   "source": [
    "### Code"
   ]
  },
  {
   "cell_type": "code",
   "execution_count": 30,
   "metadata": {
    "id": "KNEMQKfAZetc"
   },
   "outputs": [
    {
     "name": "stdout",
     "output_type": "stream",
     "text": [
      "Masukkan NIK  : 3172040402950006\n",
      "Jenis Kelamin : Laki_Laki\n",
      "Usia          : 27 Tahun\n"
     ]
    }
   ],
   "source": [
    "from datetime import datetime\n",
    "\n",
    "now = datetime.now()\n",
    "nik = input(\"Masukkan NIK  : \")\n",
    "\n",
    "if len(nik) != 16:\n",
    "    print(\"Maaf nik anda tidak sesuai\")\n",
    "else:\n",
    "    tglahir = int(nik[6:8])\n",
    "    blahir = nik[8:10]\n",
    "    tlahir = nik[10:12]\n",
    "\n",
    "    if tglahir > 40:\n",
    "        tglahir = tglahir - 40\n",
    "        jk = \"Perempuan\"\n",
    "        if tglahir > 9:\n",
    "            tglahir=str(tglahir)\n",
    "        else:\n",
    "            tglahir='0'+str(tglahir)\n",
    "\n",
    "        fulllahir=tglahir+blahir+tlahir\n",
    "        lahir = datetime.strptime(fulllahir,\"%d%m%y\")\n",
    "\n",
    "        if lahir.year > now.year:\n",
    "            lahir=lahir.replace(year=lahir.year-100)\n",
    "\n",
    "        age = now.year - lahir.year - ((now.month, lahir.day) < (lahir.month, lahir.day))\n",
    "\n",
    "        age = now.year - lahir.year\n",
    "        if now.month < lahir.month or now.month == lahir.month and now.day < lahir.day:\n",
    "            age -= 1\n",
    "    else:\n",
    "        jk = \"Laki_Laki\"\n",
    "        if tglahir > 9:\n",
    "            tglahir=str(tglahir)\n",
    "        else:\n",
    "            tglahir='0'+str(tglahir)\n",
    "\n",
    "        fulllahir=tglahir+blahir+tlahir\n",
    "        lahir = datetime.strptime(fulllahir,\"%d%m%y\")\n",
    "\n",
    "        if lahir.year > now.year:\n",
    "            lahir=lahir.replace(year=lahir.year-100)\n",
    "\n",
    "#         age = now.year - lahir.year - ((now.month, lahir.day) < (lahir.month, lahir.day))\n",
    "\n",
    "        age = now.year - lahir.year\n",
    "        if now.month < lahir.month or now.month == lahir.month and now.day < lahir.day:\n",
    "            age -= 1\n",
    "\n",
    "    print(\"Jenis Kelamin :\",jk)\n",
    "    print(\"Usia          :\",age,\"Tahun\")"
   ]
  },
  {
   "cell_type": "markdown",
   "metadata": {
    "id": "DG73DyDIZgXQ"
   },
   "source": [
    "## Bonus Question No. 1\n",
    "\n",
    "Diberikan beberapa data NIK, lalu:\n",
    "- Hitung jumlah data NIK yang tersedia\n",
    "- Hitung jumlah Pria\n",
    "- Hitung jumlah Wanita\n",
    "- Hitung jumlah yang balita (0-5 tahun)\n",
    "- Hitung jumlah yang anak kecil (6-15 tahun)\n",
    "- Hitung jumlah yang remaja (16-24 tahun)\n",
    "- Hitung jumlah yang masa produktif (25-50 tahun)\n",
    "- Hitung jumlah yang pensiun (50-60 tahun)\n",
    "- Hitung jumlah yang lansia (60 ~)"
   ]
  },
  {
   "cell_type": "markdown",
   "metadata": {
    "id": "eyzzIy7tZlYE"
   },
   "source": [
    "### Code"
   ]
  },
  {
   "cell_type": "code",
   "execution_count": 34,
   "metadata": {
    "id": "Qhi0HzspZsN7"
   },
   "outputs": [
    {
     "name": "stdout",
     "output_type": "stream",
     "text": [
      "Data Nik Tersedia     =  10 orang\n",
      "Jumlah Pria           =  6 orang\n",
      "Jumlah Wanita         =  4 orang\n",
      "Jumlah Balita         =  2 orang\n",
      "Jumlah Anak Kecil     =  1 orang\n",
      "Jumlah Remaja         =  2 orang\n",
      "Jumlah Masa Produktif =  4 orang\n",
      "Jumlah Pensiun        =  0 orang\n",
      "Jumlah Lansia         =  1 orang\n"
     ]
    }
   ],
   "source": [
    "from datetime import datetime\n",
    "pr, lk = 0,0\n",
    "blt, akc, rmj, mpr, psn, lns = 0,0,0,0,0,0\n",
    "\n",
    "# nik = input().split()\n",
    "nik = ['3172042211950004', '3174070505970002', '3172046409000007', '3172040603060005', \n",
    "       '3172042106610002',  '3172467001210009', '3172205712220001', '3172062107130008', \n",
    "       '3172465210820007', '3172462102900004']\n",
    "\n",
    "for i in nik:\n",
    "    tglahir = int(i[6:8])\n",
    "    blahir = i[8:10]\n",
    "    tlahir = i[10:12]\n",
    "    \n",
    "    if tglahir > 40:\n",
    "        tglahir = tglahir - 40\n",
    "        pr += 1\n",
    "        \n",
    "        if tglahir > 9:\n",
    "            tglahir=str(tglahir)\n",
    "        else:\n",
    "            tglahir='0'+str(tglahir)\n",
    "            \n",
    "        fulllahir=tglahir+blahir+tlahir\n",
    "        lahir = datetime.strptime(fulllahir,\"%d%m%y\")\n",
    "        \n",
    "        if lahir.year > datetime.now().year:\n",
    "            lahir=lahir.replace(year=lahir.year-100)\n",
    "            \n",
    "        age = now.year - lahir.year\n",
    "        if now.month < lahir.month or now.month == lahir.month and now.day < lahir.day:\n",
    "            age -= 1\n",
    "    \n",
    "    else:\n",
    "        lk +=1\n",
    "        \n",
    "        if tglahir > 9:\n",
    "            tglahir=str(tglahir)\n",
    "        else:\n",
    "            tglahir='0'+str(tglahir)\n",
    "        \n",
    "        fulllahir=tglahir+blahir+tlahir\n",
    "        lahir = datetime.strptime(fulllahir,\"%d%m%y\")\n",
    "        \n",
    "        if lahir.year > datetime.now().year:\n",
    "            lahir=lahir.replace(year=lahir.year-100)\n",
    "            \n",
    "        age = now.year - lahir.year\n",
    "        if now.month < lahir.month or now.month == lahir.month and now.day < lahir.day:\n",
    "            age -= 1\n",
    "\n",
    "    if age <= 5:\n",
    "        blt += 1\n",
    "    elif 5 < age <= 15:\n",
    "        akc += 1\n",
    "    elif 15< age <= 24:\n",
    "        rmj += 1\n",
    "    elif 24<age <= 50:\n",
    "        mpr += 1\n",
    "    elif 50<age <= 60:\n",
    "        psn += 1\n",
    "    else:\n",
    "        lns += 1\n",
    "    \n",
    "#hitung data\n",
    "print(\"Data Nik Tersedia     = \",len(nik),\"orang\")\n",
    "print(\"Jumlah Pria           = \",lk,\"orang\")\n",
    "print(\"Jumlah Wanita         = \",pr,\"orang\")\n",
    "print(\"Jumlah Balita         = \",blt,\"orang\")\n",
    "print(\"Jumlah Anak Kecil     = \",akc,\"orang\")\n",
    "print(\"Jumlah Remaja         = \",rmj,\"orang\")\n",
    "print(\"Jumlah Masa Produktif = \",mpr,\"orang\")\n",
    "print(\"Jumlah Pensiun        = \",psn,\"orang\")\n",
    "print(\"Jumlah Lansia         = \",lns,\"orang\")"
   ]
  },
  {
   "cell_type": "markdown",
   "metadata": {
    "id": "ci04gtb2ZxjF"
   },
   "source": [
    "## Question No. 2\n",
    "Buatlah sebuah program/fungsi yang dapat melakukan input plat nomor kendaraan sebanyak **N** dengan format:\n",
    "\n",
    "\"X 0000 XXX\" dimana X adalah alfabet uppercase dan 0 adalah numeric \n",
    "\n",
    "EXAMPLE 1\n",
    "\n",
    "Input:\n",
    "\n",
    "> 5\n",
    "\n",
    "Output:\n",
    "\n",
    "> ['P 9350 HZF', 'G 1872 VGW', 'Z 6250 LMH', 'F 3142 JVH', 'S 4643 BSF']"
   ]
  },
  {
   "cell_type": "markdown",
   "metadata": {
    "id": "ioPaOPNjZ02d"
   },
   "source": [
    "### Code"
   ]
  },
  {
   "cell_type": "code",
   "execution_count": 45,
   "metadata": {
    "id": "1d7dN9VwZ2dK"
   },
   "outputs": [],
   "source": [
    "def plat():\n",
    "    import random\n",
    "    import string\n",
    "    \n",
    "    x = int(input(\"Masukkan Jumlah Plat Nomor : \"))\n",
    "    nopol = []\n",
    "    dummy = []\n",
    "\n",
    "    for i in range(x):\n",
    "        dummy.append(random.choice(string.ascii_uppercase))\n",
    "        dummy.append(str(random.randint(1000,9999)))\n",
    "        dummy.append(''.join([random.choice(string.ascii_uppercase) for i in range(3)]))\n",
    "        nopol.append(\" \".join(dummy))\n",
    "        dummy.clear()\n",
    "    return nopol"
   ]
  },
  {
   "cell_type": "code",
   "execution_count": 47,
   "metadata": {},
   "outputs": [
    {
     "name": "stdout",
     "output_type": "stream",
     "text": [
      "Masukkan Jumlah Plat Nomor : 4\n",
      "['I 6714 YQC', 'H 1659 YIF', 'I 9287 ZRF', 'Q 4207 WUW']\n"
     ]
    }
   ],
   "source": [
    "x = plat()\n",
    "print(x)"
   ]
  },
  {
   "cell_type": "markdown",
   "metadata": {
    "id": "9Mn5VEZuZ3Q0"
   },
   "source": [
    "## Bonus Question No. 2\n",
    "\n",
    "Buat sebuah fungsi yang dapat membedakan No plat hasil dari program kalian sebelumnya untuk dibedakan Ganjil dan Genap\n",
    "\n",
    "EXAMPLE 1\n",
    "\n",
    "Input:\n",
    "\n",
    "> 'B 6127 UUZ'\n",
    "\n",
    "Output:\n",
    "\n",
    "> B 6127 UUZ merupakan Plat Ganjil"
   ]
  },
  {
   "cell_type": "markdown",
   "metadata": {
    "id": "hGhhDn5ZZ606"
   },
   "source": [
    "### Code"
   ]
  },
  {
   "cell_type": "code",
   "execution_count": 41,
   "metadata": {
    "id": "UyBdXDUAZ8Sn"
   },
   "outputs": [],
   "source": [
    "def cekggnopol(nopol):\n",
    "\n",
    "    for i in range(len(nopol)):\n",
    "#         x = nopol[i]\n",
    "        if int(nopol[i][2:6]) % 2 == 0:\n",
    "            print(nopol[i], \"Merupakan Plat Genap\")\n",
    "        else:\n",
    "            print(nopol[i], \"Merupakan Plat Ganjil\")"
   ]
  },
  {
   "cell_type": "code",
   "execution_count": 48,
   "metadata": {},
   "outputs": [
    {
     "name": "stdout",
     "output_type": "stream",
     "text": [
      "I 6714 YQC Merupakan Plat Genap\n",
      "H 1659 YIF Merupakan Plat Ganjil\n",
      "I 9287 ZRF Merupakan Plat Ganjil\n",
      "Q 4207 WUW Merupakan Plat Ganjil\n"
     ]
    }
   ],
   "source": [
    "cekggnopol(x)"
   ]
  },
  {
   "cell_type": "code",
   "execution_count": null,
   "metadata": {},
   "outputs": [],
   "source": []
  }
 ],
 "metadata": {
  "colab": {
   "provenance": []
  },
  "kernelspec": {
   "display_name": "Python 3 (ipykernel)",
   "language": "python",
   "name": "python3"
  },
  "language_info": {
   "codemirror_mode": {
    "name": "ipython",
    "version": 3
   },
   "file_extension": ".py",
   "mimetype": "text/x-python",
   "name": "python",
   "nbconvert_exporter": "python",
   "pygments_lexer": "ipython3",
   "version": "3.9.13"
  }
 },
 "nbformat": 4,
 "nbformat_minor": 1
}
