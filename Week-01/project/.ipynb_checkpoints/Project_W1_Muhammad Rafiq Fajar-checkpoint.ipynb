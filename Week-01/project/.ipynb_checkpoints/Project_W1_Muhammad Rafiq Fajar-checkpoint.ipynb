{
 "cells": [
  {
   "cell_type": "markdown",
   "metadata": {
    "id": "gVVGjd4mZWOS"
   },
   "source": [
    "## Question No. 1 \n",
    "Buatlah sebuah program untuk melakukan pendataan penduduk dari NIK untuk mengetahui Umur dan Jenis Kelamin\n",
    "\n",
    "*Note:*\n",
    "- Untuk **PRIA** tanggal lahirnya memiliki format dd-mm-yy\n",
    "- Untuk **WANITA** tanggal lahirnya memiliki format (dd+40) - mm - yy\n",
    "\n",
    "`EXAMPLE 1`:\n",
    "\n",
    "Input:\n",
    "\n",
    "> 3172014212960005\n",
    "\n",
    "Output\n",
    "\n",
    "> Perempuan, 26 (Age)\n",
    "\n",
    "`EXAMPLE 2`:\n",
    "\n",
    "Input:\n",
    "\n",
    "> 3172042211950004\n",
    "\n",
    "Output\n",
    "\n",
    "> Pria, 27"
   ]
  },
  {
   "cell_type": "markdown",
   "metadata": {
    "id": "GiSBqj_WZdLr"
   },
   "source": [
    "### Code"
   ]
  },
  {
   "cell_type": "code",
   "execution_count": 110,
   "metadata": {
    "id": "KNEMQKfAZetc"
   },
   "outputs": [
    {
     "name": "stdout",
     "output_type": "stream",
     "text": [
      "Masukkan NIK  : 1671082001010006\n",
      "Jenis Kelamin : Laki_Laki\n",
      "Usia          : 2001-01-20 00:00:00 Tahun\n"
     ]
    }
   ],
   "source": [
    "from datetime import datetime\n",
    "\n",
    "now = datetime.now()\n",
    "nik = input(\"Masukkan NIK  : \")\n",
    "\n",
    "if len(nik) != 16:\n",
    "    print(\"Maaf nik anda tidak sesuai\")\n",
    "else:\n",
    "    tglahir = int(nik[6:8])\n",
    "    blahir = nik[8:10]\n",
    "    tlahir = nik[10:12]\n",
    "\n",
    "    if tglahir > 40:\n",
    "        tglahir = tglahir - 40\n",
    "        jk = \"Perempuan\"\n",
    "        if tglahir > 9:\n",
    "            tglahir=str(tglahir)\n",
    "        else:\n",
    "            tglahir='0'+str(tglahir)\n",
    "\n",
    "        fulllahir=tglahir+blahir+tlahir\n",
    "        lahir = datetime.strptime(fulllahir,\"%d%m%y\")\n",
    "\n",
    "        if lahir.year > now.year:\n",
    "            lahir=lahir.replace(year=lahir.year-100)\n",
    "\n",
    "        age = int(((now-lahir).days)/365)\n",
    "    else:\n",
    "        jk = \"Laki_Laki\"\n",
    "        if tglahir > 9:\n",
    "            tglahir=str(tglahir)\n",
    "        else:\n",
    "            tglahir='0'+str(tglahir)\n",
    "\n",
    "        fulllahir=tglahir+blahir+tlahir\n",
    "        lahir = datetime.strptime(fulllahir,\"%d%m%y\")\n",
    "\n",
    "        if lahir.year > now.year:\n",
    "            lahir=lahir.replace(year=lahir.year-100)\n",
    "\n",
    "        age = int(((now-lahir).days)/365)\n",
    "\n",
    "    print(\"Jenis Kelamin :\",jk)\n",
    "    print(\"Usia          :\",age,\"Tahun\")"
   ]
  },
  {
   "cell_type": "markdown",
   "metadata": {
    "id": "DG73DyDIZgXQ"
   },
   "source": [
    "## Bonus Question No. 1\n",
    "\n",
    "Diberikan beberapa data NIK, lalu:\n",
    "- Hitung jumlah data NIK yang tersedia\n",
    "- Hitung jumlah Pria\n",
    "- Hitung jumlah Wanita\n",
    "- Hitung jumlah yang balita (0-5 tahun)\n",
    "- Hitung jumlah yang anak kecil (6-15 tahun)\n",
    "- Hitung jumlah yang remaja (16-24 tahun)\n",
    "- Hitung jumlah yang masa produktif (25-50 tahun)\n",
    "- Hitung jumlah yang pensiun (50-60 tahun)\n",
    "- Hitung jumlah yang lansia (60 ~)"
   ]
  },
  {
   "cell_type": "markdown",
   "metadata": {
    "id": "eyzzIy7tZlYE"
   },
   "source": [
    "### Code"
   ]
  },
  {
   "cell_type": "code",
   "execution_count": 109,
   "metadata": {
    "id": "Qhi0HzspZsN7"
   },
   "outputs": [
    {
     "name": "stdout",
     "output_type": "stream",
     "text": [
      "Data Nik Tersedia     =  10 orang\n",
      "Jumlah Pria           =  6 orang\n",
      "Jumlah Wanita         =  4 orang\n",
      "Jumlah Balita         =  2 orang\n",
      "Jumlah Anak Kecil     =  1 orang\n",
      "Jumlah Remaja         =  2 orang\n",
      "Jumlah Masa Produktif =  4 orang\n",
      "Jumlah Pensiun        =  0 orang\n",
      "Jumlah Lansia         =  1 orang\n"
     ]
    }
   ],
   "source": [
    "from datetime import datetime\n",
    "pr, lk = 0,0\n",
    "blt, akc, rmj, mpr, psn, lns = 0,0,0,0,0,0\n",
    "\n",
    "# nik = input().split()\n",
    "nik = ['3172042211950004', '3174070505970002', '3172046409000007', '3172040603060005', \n",
    "       '3172042106610002',  '3172467001210009', '3172205712220001', '3172062107130008', \n",
    "       '3172465210820007', '3172462102900004']\n",
    "\n",
    "for i in nik:\n",
    "    tglahir = int(i[6:8])\n",
    "    blahir = i[8:10]\n",
    "    tlahir = i[10:12]\n",
    "    \n",
    "    if tglahir > 40:\n",
    "        tglahir = tglahir - 40\n",
    "        pr += 1\n",
    "        \n",
    "        if tglahir > 9:\n",
    "            tglahir=str(tglahir)\n",
    "        else:\n",
    "            tglahir='0'+str(tglahir)\n",
    "            \n",
    "        fulllahir=tglahir+blahir+tlahir\n",
    "        lahir = datetime.strptime(fulllahir,\"%d%m%y\")\n",
    "        \n",
    "        if lahir.year > datetime.now().year:\n",
    "            lahir=lahir.replace(year=lahir.year-100)\n",
    "        \n",
    "        age = int(((datetime.now()-lahir).days)/365)\n",
    "    \n",
    "    else:\n",
    "        lk +=1\n",
    "        \n",
    "        if tglahir > 9:\n",
    "            tglahir=str(tglahir)\n",
    "        else:\n",
    "            tglahir='0'+str(tglahir)\n",
    "        \n",
    "        fulllahir=tglahir+blahir+tlahir\n",
    "        lahir = datetime.strptime(fulllahir,\"%d%m%y\")\n",
    "        \n",
    "        if lahir.year > datetime.now().year:\n",
    "            lahir=lahir.replace(year=lahir.year-100)\n",
    "        \n",
    "        age = int(((datetime.now()-lahir).days)/365)\n",
    "\n",
    "    if age <= 5:\n",
    "        blt += 1\n",
    "    elif 5 < age <= 15:\n",
    "        akc += 1\n",
    "    elif 15< age <= 24:\n",
    "        rmj += 1\n",
    "    elif 24<age <= 50:\n",
    "        mpr += 1\n",
    "    elif 50<age <= 60:\n",
    "        psn += 1\n",
    "    else:\n",
    "        lns += 1\n",
    "    \n",
    "#hitung data\n",
    "print(\"Data Nik Tersedia     = \",len(nik),\"orang\")\n",
    "print(\"Jumlah Pria           = \",lk,\"orang\")\n",
    "print(\"Jumlah Wanita         = \",pr,\"orang\")\n",
    "print(\"Jumlah Balita         = \",blt,\"orang\")\n",
    "print(\"Jumlah Anak Kecil     = \",akc,\"orang\")\n",
    "print(\"Jumlah Remaja         = \",rmj,\"orang\")\n",
    "print(\"Jumlah Masa Produktif = \",mpr,\"orang\")\n",
    "print(\"Jumlah Pensiun        = \",psn,\"orang\")\n",
    "print(\"Jumlah Lansia         = \",lns,\"orang\")"
   ]
  },
  {
   "cell_type": "markdown",
   "metadata": {
    "id": "ci04gtb2ZxjF"
   },
   "source": [
    "## Question No. 2\n",
    "Buatlah sebuah program/fungsi yang dapat melakukan input plat nomor kendaraan sebanyak **N** dengan format:\n",
    "\n",
    "\"X 0000 XXX\" dimana X adalah alfabet uppercase dan 0 adalah numeric \n",
    "\n",
    "EXAMPLE 1\n",
    "\n",
    "Input:\n",
    "\n",
    "> 5\n",
    "\n",
    "Output:\n",
    "\n",
    "> ['P 9350 HZF', 'G 1872 VGW', 'Z 6250 LMH', 'F 3142 JVH', 'S 4643 BSF']"
   ]
  },
  {
   "cell_type": "markdown",
   "metadata": {
    "id": "ioPaOPNjZ02d"
   },
   "source": [
    "### Code"
   ]
  },
  {
   "cell_type": "code",
   "execution_count": 91,
   "metadata": {
    "id": "1d7dN9VwZ2dK"
   },
   "outputs": [],
   "source": [
    "def plat():\n",
    "    import random\n",
    "    import string\n",
    "    \n",
    "    x = int(input(\"Masukkan Jumlah Plat Nomor : \"))\n",
    "    nopol = []\n",
    "    dummy = []\n",
    "\n",
    "    for i in range(x):\n",
    "        dummy.append(random.choice(string.ascii_uppercase))\n",
    "        dummy.append(str(random.randint(1000,9999)))\n",
    "        dummy.append(''.join([random.choice(string.ascii_uppercase) for i in range(3)]))\n",
    "        nopol.append(\" \".join(dummy))\n",
    "        dummy.clear()\n",
    "    return nopol"
   ]
  },
  {
   "cell_type": "code",
   "execution_count": 92,
   "metadata": {},
   "outputs": [
    {
     "name": "stdout",
     "output_type": "stream",
     "text": [
      "Masukkan Jumlah Plat Nomor : 2\n"
     ]
    },
    {
     "data": {
      "text/plain": [
       "['I 2955 BRF', 'N 6958 PGZ']"
      ]
     },
     "execution_count": 92,
     "metadata": {},
     "output_type": "execute_result"
    }
   ],
   "source": [
    "plat()"
   ]
  },
  {
   "cell_type": "markdown",
   "metadata": {
    "id": "9Mn5VEZuZ3Q0"
   },
   "source": [
    "## Bonus Question No. 2\n",
    "\n",
    "Buat sebuah fungsi yang dapat membedakan No plat hasil dari program kalian sebelumnya untuk dibedakan Ganjil dan Genap\n",
    "\n",
    "EXAMPLE 1\n",
    "\n",
    "Input:\n",
    "\n",
    "> 'B 6127 UUZ'\n",
    "\n",
    "Output:\n",
    "\n",
    "> B 6127 UUZ merupakan Plat Ganjil"
   ]
  },
  {
   "cell_type": "markdown",
   "metadata": {
    "id": "hGhhDn5ZZ606"
   },
   "source": [
    "### Code"
   ]
  },
  {
   "cell_type": "code",
   "execution_count": 93,
   "metadata": {
    "id": "UyBdXDUAZ8Sn"
   },
   "outputs": [],
   "source": [
    "def cekggnopol(nopol):\n",
    "\n",
    "    for i in range(len(nopol)):\n",
    "        x = nopol[i]\n",
    "        if int(x[2:6]) % 2 == 0:\n",
    "            print(nopol[i], \"Merupakan Plat Genap\")\n",
    "        else:\n",
    "            print(nopol[i], \"Merupakan Plat Ganjil\")"
   ]
  },
  {
   "cell_type": "code",
   "execution_count": 95,
   "metadata": {},
   "outputs": [
    {
     "name": "stdout",
     "output_type": "stream",
     "text": [
      "Masukkan Jumlah Plat Nomor : 43\n",
      "H 1976 FYX Merupakan Plat Genap\n",
      "Q 7705 WNB Merupakan Plat Ganjil\n",
      "F 3369 CWH Merupakan Plat Ganjil\n",
      "M 1369 JQP Merupakan Plat Ganjil\n",
      "J 7849 VTB Merupakan Plat Ganjil\n",
      "R 1860 RKA Merupakan Plat Genap\n",
      "U 5969 BGH Merupakan Plat Ganjil\n",
      "B 7997 BVC Merupakan Plat Ganjil\n",
      "V 2857 DUJ Merupakan Plat Ganjil\n",
      "H 4890 NVT Merupakan Plat Genap\n",
      "L 7871 IKU Merupakan Plat Ganjil\n",
      "Z 3486 XCZ Merupakan Plat Genap\n",
      "P 7397 LJG Merupakan Plat Ganjil\n",
      "X 7595 GWX Merupakan Plat Ganjil\n",
      "J 4154 GVB Merupakan Plat Genap\n",
      "Y 5517 CHC Merupakan Plat Ganjil\n",
      "D 4069 HJH Merupakan Plat Ganjil\n",
      "T 4954 EII Merupakan Plat Genap\n",
      "D 5786 TPP Merupakan Plat Genap\n",
      "U 4116 UBA Merupakan Plat Genap\n",
      "J 1431 UDV Merupakan Plat Ganjil\n",
      "V 9790 VFC Merupakan Plat Genap\n",
      "F 9082 GGH Merupakan Plat Genap\n",
      "L 1294 VUR Merupakan Plat Genap\n",
      "C 3522 GWZ Merupakan Plat Genap\n",
      "D 6137 SSX Merupakan Plat Ganjil\n",
      "A 8565 VQS Merupakan Plat Ganjil\n",
      "L 2192 DDB Merupakan Plat Genap\n",
      "K 2565 OJR Merupakan Plat Ganjil\n",
      "H 2628 PSA Merupakan Plat Genap\n",
      "Z 4757 WKK Merupakan Plat Ganjil\n",
      "F 2625 LZL Merupakan Plat Ganjil\n",
      "P 5226 UKF Merupakan Plat Genap\n",
      "K 3071 ADQ Merupakan Plat Ganjil\n",
      "E 7879 GMY Merupakan Plat Ganjil\n",
      "A 7261 KEC Merupakan Plat Ganjil\n",
      "X 7052 OPL Merupakan Plat Genap\n",
      "F 7555 XOZ Merupakan Plat Ganjil\n",
      "K 2854 FCA Merupakan Plat Genap\n",
      "S 2807 DXJ Merupakan Plat Ganjil\n",
      "J 3656 EER Merupakan Plat Genap\n",
      "U 3288 QYG Merupakan Plat Genap\n",
      "I 2503 VZQ Merupakan Plat Ganjil\n"
     ]
    }
   ],
   "source": [
    "cekggnopol(plat())"
   ]
  },
  {
   "cell_type": "code",
   "execution_count": null,
   "metadata": {},
   "outputs": [],
   "source": []
  }
 ],
 "metadata": {
  "colab": {
   "provenance": []
  },
  "kernelspec": {
   "display_name": "Python 3 (ipykernel)",
   "language": "python",
   "name": "python3"
  },
  "language_info": {
   "codemirror_mode": {
    "name": "ipython",
    "version": 3
   },
   "file_extension": ".py",
   "mimetype": "text/x-python",
   "name": "python",
   "nbconvert_exporter": "python",
   "pygments_lexer": "ipython3",
   "version": "3.9.13"
  }
 },
 "nbformat": 4,
 "nbformat_minor": 1
}
