{
 "cells": [
  {
   "cell_type": "markdown",
   "metadata": {},
   "source": [
    "### **Link Pengumpulan Quiz02**\n",
    "https://forms.gle/X5PmWVvtXqx34TUU7"
   ]
  },
  {
   "cell_type": "markdown",
   "metadata": {},
   "source": [
    "### **Soal 1 List Comprehension (Easy)**"
   ]
  },
  {
   "cell_type": "markdown",
   "metadata": {},
   "source": [
    "Buatlah codingan ketika dalam sebuah list angka tersebut adalah bilangan genap maka bilangan tersebut di kuadratkan.<br><br>\n",
    "input<br>\n",
    "x=[1,2,3,4,5,6]\n",
    "<br>\n",
    "<br>\n",
    "output :<br>[1,4,3,16,5,36]"
   ]
  },
  {
   "cell_type": "code",
   "execution_count": 83,
   "metadata": {},
   "outputs": [
    {
     "name": "stdout",
     "output_type": "stream",
     "text": [
      "[1, 4, 16, 5, 64, 100]\n"
     ]
    }
   ],
   "source": [
    "x=[1,2,4,5,8,10]\n",
    "result = []\n",
    "#your code goes here\n",
    "for i in range(len(x)):\n",
    "    if x[i] % 2 == 0:\n",
    "        result.append(x[i]**2)\n",
    "    else:\n",
    "        result.append(x[i])\n",
    "print(result)\n",
    "# expected output: [1,4,16,5,64,100]"
   ]
  },
  {
   "cell_type": "code",
   "execution_count": 84,
   "metadata": {},
   "outputs": [
    {
     "data": {
      "text/plain": [
       "[1, 4, 16, 5, 64, 100]"
      ]
     },
     "execution_count": 84,
     "metadata": {},
     "output_type": "execute_result"
    }
   ],
   "source": [
    "[i**2 if i%2==0 else i for i in x]"
   ]
  },
  {
   "cell_type": "markdown",
   "metadata": {},
   "source": [
    "### Soal 2 (Medium)\n",
    "\n",
    "Buat program dengan 4 variabel:\n",
    "1. Sebuah list berisikan > 5 angka (integer) dengan minimal salah satu terdapat angka yang habis di bagi variabel `divider`\n",
    "2. Sebuah variabel yang akan menjadi pembagi list yang ada di atas (integer)\n",
    "3. Sebuah list untuk menyimpat value dari list pertama yang habis di bagi `divider`\n",
    "4. Sebuah variabel yang menghitung ada berapa value yang habis dibagi `divider`\n",
    "\n",
    "Buat kondisi:\n",
    "- **jika ada** angka yang bisa dibagi `divider` maka print angka tersebut beserta banyak value yang habis dibagi\n",
    "- **Jika tidak** maka tambahkan nilai `divider kedalam list pertama dan munculkan list tersebut\n",
    "\n",
    "Example 1:\n",
    "> Input:\n",
    "- Numb = [10, 15, 20, 25, 30]\n",
    "- divider = 10\n",
    "\n",
    "> Output:\n",
    "- Ada 3 nilai yang habis dibagi 10 yaitu 10, 20, 30\n",
    "\n",
    "Example 2:\n",
    "> Input:\n",
    "- Numb = [1, 7, 10, 13, 21, 25]\n",
    "- divider = 12\n",
    "\n",
    "> Output:\n",
    "- List tidak memiliki angka yang habis dibagi 12\n",
    "- Update List = [1, 7, 10, 13, 21, 25, 12]"
   ]
  },
  {
   "cell_type": "code",
   "execution_count": 75,
   "metadata": {},
   "outputs": [],
   "source": [
    "def devider(numb,divisor):\n",
    "    count = 0\n",
    "    dummy = []\n",
    "    \n",
    "    for i in range(len(numb)):\n",
    "        if numb[i] % divisor == 0:\n",
    "            count += 1\n",
    "            dummy.append(numb[i])\n",
    "    \n",
    "    if count == 0:\n",
    "        numb.append(divisor)\n",
    "        print(\"List doesn't contain\",divisor,\"and it's added to the List\")\n",
    "        print(numb)\n",
    "    else:\n",
    "        print(\"There are\",count,\"value which can be divided by\",divisor,\"which is\",end=\" \")\n",
    "        print(', '.join(str(x) for x in dummy))"
   ]
  },
  {
   "cell_type": "code",
   "execution_count": 76,
   "metadata": {},
   "outputs": [
    {
     "name": "stdout",
     "output_type": "stream",
     "text": [
      "There are 6 value which can be divided by 2 which is 2, 14, 24, 80, 48, 96\n"
     ]
    }
   ],
   "source": [
    "numb = [2, 5, 9, 37, 14, 24, 17, 1, 80, 48, 96]\n",
    "divisor = 2\n",
    "\n",
    "devider(numb,divisor)\n",
    "\n",
    "# expected output\n",
    "# There are 6 value which can be divided by 2 which is 2, 14, 24, 80, 48, 96"
   ]
  },
  {
   "cell_type": "code",
   "execution_count": 77,
   "metadata": {},
   "outputs": [
    {
     "name": "stdout",
     "output_type": "stream",
     "text": [
      "List doesn't contain 100 and it's added to the List\n",
      "[2, 5, 9, 37, 14, 24, 17, 1, 80, 48, 96, 100]\n"
     ]
    }
   ],
   "source": [
    "numb = [2, 5, 9, 37, 14, 24, 17, 1, 80, 48, 96]\n",
    "divisor = 100\n",
    "\n",
    "devider(numb,divisor)\n",
    "\n",
    "# expected output\n",
    "# List doesn't contain 100 and it's added to the List\n",
    "# [2, 5, 9, 37, 14, 24, 17, 1, 80, 48, 96, 100]"
   ]
  },
  {
   "cell_type": "markdown",
   "metadata": {},
   "source": [
    "### **Soal 3 List Comprehension (Hard)**"
   ]
  },
  {
   "cell_type": "markdown",
   "metadata": {},
   "source": [
    "Buatlah list comprehension dengan persyaratan sebagai berikut:\n",
    "\n",
    "1. Jika bilangan genap maka bilangan tersebut di kuadratkan.\n",
    "2. Jika bilangan ganjil maka angka tersebut di bagi 2\n",
    "3. jika bilangan 0 maka angka tersebut tidak dimasukan kedalam list \n",
    "<br>\n",
    "<br>\n",
    "input<br>\n",
    "x=[0,1,2,3,4,5,6]\n",
    "<br>\n",
    "<br>\n",
    "output :<br>\n",
    "[0.5, 4, 1.5, 16, 2.5, 36]"
   ]
  },
  {
   "cell_type": "code",
   "execution_count": 90,
   "metadata": {},
   "outputs": [
    {
     "name": "stdout",
     "output_type": "stream",
     "text": [
      "[0.5, 4, 16, 2.5, 64, 100]\n"
     ]
    }
   ],
   "source": [
    "x=[0,1,2,4,0,5,0,8,10]\n",
    "result =[]\n",
    "#your code goes here\n",
    "\n",
    "for i in range(len(x)):\n",
    "    if x[i] == 0:\n",
    "        continue\n",
    "    elif x[i] % 2 == 0:\n",
    "        result.append(x[i]**2)\n",
    "    else:\n",
    "        result.append(x[i]/2)\n",
    "        \n",
    "print(result)\n",
    "# expected output: [0.5, 4, 16, 2.5, 64, 100]\n"
   ]
  },
  {
   "cell_type": "code",
   "execution_count": 91,
   "metadata": {},
   "outputs": [
    {
     "data": {
      "text/plain": [
       "[0.5, 4, 16, 2.5, 64, 100]"
      ]
     },
     "execution_count": 91,
     "metadata": {},
     "output_type": "execute_result"
    }
   ],
   "source": [
    "[i**2 if i%2==0 else i/2 for i in x if i!=0]"
   ]
  },
  {
   "cell_type": "code",
   "execution_count": null,
   "metadata": {},
   "outputs": [],
   "source": []
  }
 ],
 "metadata": {
  "kernelspec": {
   "display_name": "Python 3 (ipykernel)",
   "language": "python",
   "name": "python3"
  },
  "language_info": {
   "codemirror_mode": {
    "name": "ipython",
    "version": 3
   },
   "file_extension": ".py",
   "mimetype": "text/x-python",
   "name": "python",
   "nbconvert_exporter": "python",
   "pygments_lexer": "ipython3",
   "version": "3.9.13"
  },
  "vscode": {
   "interpreter": {
    "hash": "ad2bdc8ecc057115af97d19610ffacc2b4e99fae6737bb82f5d7fb13d2f2c186"
   }
  }
 },
 "nbformat": 4,
 "nbformat_minor": 2
}
