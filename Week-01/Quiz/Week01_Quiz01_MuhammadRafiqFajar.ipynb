{
 "cells": [
  {
   "cell_type": "markdown",
   "metadata": {},
   "source": [
    "### **Link Pengumpulan Quiz01**\n",
    "https://forms.gle/TStPadAT8UbTvag1A"
   ]
  },
  {
   "cell_type": "markdown",
   "metadata": {},
   "source": [
    "### **Soal 1 Bilangan Prima**\n",
    "Buat sebuah function di Python untuk mengecek apakah sebuah angka merupakan bilangan prima atau bukan.\n",
    "\n",
    "Ekspektasi jawaban: \n",
    "\n",
    "misal fungsi Anda bernama prime_check. Ketika kita jalankan prime_check(5), maka outputnya adalah '5 is a Prime number'. Fungsi ini harus bisa berlaku untuk input apa pun. \n",
    "\n",
    "constraint: \n",
    "1. input hanya berupa integer\n",
    "\n",
    "\n",
    "ex1:<br>\n",
    "input: 5\n",
    "\n",
    "output:\n",
    "'5 is a Prime number'\n",
    "\n",
    "ex2: <br>\n",
    "input: 6\n",
    "\n",
    "output:\n",
    "'6 is not a Prime number'"
   ]
  },
  {
   "cell_type": "code",
   "execution_count": 166,
   "metadata": {},
   "outputs": [],
   "source": [
    "def prime_check(num):\n",
    "    \n",
    "    if num > 1:\n",
    "        for i in range(2,num):\n",
    "            if(num % i) == 0:\n",
    "                print(num,\"is not a prime number\")\n",
    "                break\n",
    "            else:\n",
    "                print(num,\"is a prime number\")\n",
    "                break\n",
    "    else:\n",
    "        print(num,\"is not a prime number\")"
   ]
  },
  {
   "cell_type": "code",
   "execution_count": 167,
   "metadata": {},
   "outputs": [
    {
     "name": "stdout",
     "output_type": "stream",
     "text": [
      "7 is a prime number\n"
     ]
    }
   ],
   "source": [
    "#cek fungsi\n",
    "cek_num1=7\n",
    "prime_check(cek_num1)"
   ]
  },
  {
   "cell_type": "code",
   "execution_count": 168,
   "metadata": {},
   "outputs": [
    {
     "name": "stdout",
     "output_type": "stream",
     "text": [
      "20 is not a prime number\n"
     ]
    }
   ],
   "source": [
    "#cek fungsi\n",
    "cek_num2=20\n",
    "prime_check(cek_num2)"
   ]
  },
  {
   "cell_type": "code",
   "execution_count": 169,
   "metadata": {},
   "outputs": [
    {
     "name": "stdout",
     "output_type": "stream",
     "text": [
      "17 is a prime number\n"
     ]
    }
   ],
   "source": [
    "#cek fungsi\n",
    "cek_num3=17\n",
    "prime_check(cek_num3)"
   ]
  },
  {
   "cell_type": "markdown",
   "metadata": {},
   "source": [
    "# **Soal 2 e-Tilang**\n",
    "Tulis sebuah fungsi yang akan mengeluarkan salah satu dari 3 output berikut: (1) Tidak ditilang, (2) Ditilang kecil, dan (3) ditilang besar. Dengan ketentuan:\n",
    "1. Jika kecepatan 60km/jam atau kurang: Tidak ditilang,\n",
    "2. Jika kecepatan lebih dari 60km/jam tapi kurang atau sama dengan 80 km/jam: Tilang kecil\n",
    "3. Jika lebih dari 80km/jam: Tilang besar.\n",
    "4. Jika pada saat itu pengemudi sedang hujan, maka semua batas kecepatan dikurangi 5km.\n",
    "  \n",
    "input: \n",
    "1. input kecepatan berupa integer\n",
    "2. input hujan berup Boolean"
   ]
  },
  {
   "cell_type": "code",
   "execution_count": 170,
   "metadata": {},
   "outputs": [],
   "source": [
    "def tilang(speed,hujan):\n",
    "    #your code goes here\n",
    "    \n",
    "    if hujan is True:\n",
    "        if int(speed) <= 55:\n",
    "            print(\"Tidak Ditilang\")\n",
    "        elif int(speed) <= 75:\n",
    "            print(\"Tilang Kecil (Rp 100ribu)\")\n",
    "        else:\n",
    "            print(\"Tilang Besar (Rp 500ribu)\")\n",
    "    else:\n",
    "        if int(speed) <= 60:\n",
    "            print(\"Tidak Ditilang\")\n",
    "        elif int(speed) <= 80:\n",
    "            print(\"Tilang Kecil (Rp 100ribu)\")\n",
    "        else:\n",
    "            print(\"Tilang Besar (Rp 500ribu)\")"
   ]
  },
  {
   "cell_type": "code",
   "execution_count": 171,
   "metadata": {},
   "outputs": [
    {
     "name": "stdout",
     "output_type": "stream",
     "text": [
      "Tilang Besar (Rp 500ribu)\n"
     ]
    }
   ],
   "source": [
    "#test code\n",
    "speed=80\n",
    "hujan=True\n",
    "tilang(speed,hujan)\n",
    "\n",
    "#expected output: 'Tilang Besar (Rp 500ribu)'"
   ]
  },
  {
   "cell_type": "code",
   "execution_count": 172,
   "metadata": {},
   "outputs": [
    {
     "name": "stdout",
     "output_type": "stream",
     "text": [
      "Tilang Besar (Rp 500ribu)\n"
     ]
    }
   ],
   "source": [
    "#test code\n",
    "speed=81\n",
    "hujan=False\n",
    "tilang(speed,hujan)\n",
    "\n",
    "#expected output: 'Tilang Besar (Rp 500ribu)'"
   ]
  },
  {
   "cell_type": "code",
   "execution_count": 173,
   "metadata": {},
   "outputs": [
    {
     "name": "stdout",
     "output_type": "stream",
     "text": [
      "Tidak Ditilang\n"
     ]
    }
   ],
   "source": [
    "#test code\n",
    "speed=48\n",
    "hujan=False\n",
    "tilang(speed,hujan)\n",
    "\n",
    "#expected output: 'Tidak ditilang'"
   ]
  },
  {
   "cell_type": "markdown",
   "metadata": {},
   "source": [
    "### **Soal 3 Vowels Counting**\n",
    "Sebuah perusahaan ingin mengadakan survey seberapa sering kata vokal. kalian diminta untuk membuat fungsi penghitung kemunculan huruf vokal dalam sebuah kalimat. fungsi ini menerima input berupa string dan menghasilkan output berupa dict.\n",
    "<br>\n",
    "batasan:\n",
    "1. input hanya berbentuk string\n",
    "2. input hanya huruf kecil\n",
    "\n",
    "EX1:\n",
    "\n",
    "Input:<br>\n",
    "'i love coding'\n",
    "\n",
    "Output:<br>\n",
    "{'a': 0, 'i': 2, 'u': 0, 'e': 1, 'o': 2}\n",
    "\n",
    "EX2:\n",
    "\n",
    "Input:<br>\n",
    "'semesta energi service'\n",
    "\n",
    "Output:<br>\n",
    "{'a': 1, 'i': 2, 'u': 0, 'e': 6, 'o': 0}"
   ]
  },
  {
   "cell_type": "code",
   "execution_count": 174,
   "metadata": {
    "scrolled": true
   },
   "outputs": [],
   "source": [
    "def vowelCount(st):\n",
    "    #your code goes here\n",
    "    a,i,u,e,o = 0,0,0,0,0\n",
    "    \n",
    "    voweldict = {'a':0,'i':0,'u':0,'e':0,'o':0}\n",
    "    \n",
    "    for j in range(len(st)):\n",
    "        if st[j] == 'a':\n",
    "            a += 1\n",
    "        elif st[j] == 'i':\n",
    "            i += 1\n",
    "        elif st[j] == 'u':\n",
    "            u += 1\n",
    "        elif st[j] == 'e':\n",
    "            e += 1\n",
    "        elif st[j] == 'o':\n",
    "            o += 1\n",
    "    \n",
    "    voweldict.update({\"a\": a})\n",
    "    voweldict.update({\"i\": i})\n",
    "    voweldict.update({\"u\": u})\n",
    "    voweldict.update({\"e\": e})\n",
    "    voweldict.update({\"o\": o})\n",
    "    print(voweldict)"
   ]
  },
  {
   "cell_type": "code",
   "execution_count": 175,
   "metadata": {},
   "outputs": [
    {
     "name": "stdout",
     "output_type": "stream",
     "text": [
      "{'a': 3, 'i': 4, 'u': 3, 'e': 7, 'o': 5}\n"
     ]
    }
   ],
   "source": [
    "# test code\n",
    "strings=\"welcome future data science student from coding for indonesia\"\n",
    "vowelCount(strings)\n",
    "# expected output:\n",
    "# {'a': 3, 'i': 4, 'u': 3, 'e': 7, 'o': 5}"
   ]
  },
  {
   "cell_type": "code",
   "execution_count": 176,
   "metadata": {},
   "outputs": [
    {
     "name": "stdout",
     "output_type": "stream",
     "text": [
      "{'a': 2, 'i': 2, 'u': 3, 'e': 2, 'o': 2}\n"
     ]
    }
   ],
   "source": [
    "# test code\n",
    "strings=\"goodluck future data scientist\"\n",
    "vowelCount(strings)\n",
    "# expected output:\n",
    "# {'a': 2, 'i': 2, 'u': 3, 'e': 2, 'o': 2}"
   ]
  },
  {
   "cell_type": "code",
   "execution_count": 177,
   "metadata": {},
   "outputs": [
    {
     "name": "stdout",
     "output_type": "stream",
     "text": [
      "{'a': 1, 'i': 2, 'u': 0, 'e': 1, 'o': 0}\n"
     ]
    }
   ],
   "source": [
    "# test code\n",
    "strings=\"w3lc0m3 d4ta scientist':>/\"\n",
    "vowelCount(strings)\n",
    "# expected output:\n",
    "# {'a': 1, 'i': 2, 'u': 0, 'e': 1, 'o': 0}"
   ]
  },
  {
   "cell_type": "code",
   "execution_count": null,
   "metadata": {},
   "outputs": [],
   "source": []
  }
 ],
 "metadata": {
  "kernelspec": {
   "display_name": "Python 3 (ipykernel)",
   "language": "python",
   "name": "python3"
  },
  "language_info": {
   "codemirror_mode": {
    "name": "ipython",
    "version": 3
   },
   "file_extension": ".py",
   "mimetype": "text/x-python",
   "name": "python",
   "nbconvert_exporter": "python",
   "pygments_lexer": "ipython3",
   "version": "3.9.13"
  },
  "vscode": {
   "interpreter": {
    "hash": "ad2bdc8ecc057115af97d19610ffacc2b4e99fae6737bb82f5d7fb13d2f2c186"
   }
  }
 },
 "nbformat": 4,
 "nbformat_minor": 2
}
