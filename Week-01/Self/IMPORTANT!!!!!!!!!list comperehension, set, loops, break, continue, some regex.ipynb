{
 "cells": [
  {
   "cell_type": "code",
   "execution_count": null,
   "id": "b0e870d5",
   "metadata": {},
   "outputs": [],
   "source": [
    "# set digunakan untuk menghapus duplikat"
   ]
  },
  {
   "cell_type": "code",
   "execution_count": null,
   "id": "382c0055",
   "metadata": {},
   "outputs": [],
   "source": []
  },
  {
   "cell_type": "code",
   "execution_count": null,
   "id": "e7141704",
   "metadata": {},
   "outputs": [],
   "source": []
  },
  {
   "cell_type": "code",
   "execution_count": null,
   "id": "7255263d",
   "metadata": {},
   "outputs": [],
   "source": []
  },
  {
   "cell_type": "code",
   "execution_count": 1,
   "id": "39b6ba26",
   "metadata": {},
   "outputs": [
    {
     "data": {
      "text/plain": [
       "{1, 2, 3, 4, 5, 6}"
      ]
     },
     "execution_count": 1,
     "metadata": {},
     "output_type": "execute_result"
    }
   ],
   "source": [
    "x = [1,1,1,1,2,2,2,4,4,6,4,4,4,5,5,3,3,3,3]\n",
    "\n",
    "set(x)"
   ]
  },
  {
   "cell_type": "code",
   "execution_count": 22,
   "id": "a6da24a4",
   "metadata": {},
   "outputs": [
    {
     "name": "stdout",
     "output_type": "stream",
     "text": [
      "1\n",
      "2\n"
     ]
    }
   ],
   "source": [
    "# break, continue, pass\n",
    "x = [1,2,3,4,5,6]\n",
    "\n",
    "for i in x:\n",
    "    if i == 3:\n",
    "        break\n",
    "    print(i)"
   ]
  },
  {
   "cell_type": "code",
   "execution_count": 23,
   "id": "2ca8284b",
   "metadata": {},
   "outputs": [
    {
     "name": "stdout",
     "output_type": "stream",
     "text": [
      "1\n",
      "2\n",
      "4\n",
      "5\n",
      "6\n"
     ]
    }
   ],
   "source": [
    "for i in x:\n",
    "    if i == 3:\n",
    "        continue\n",
    "    print(i)"
   ]
  },
  {
   "cell_type": "code",
   "execution_count": 24,
   "id": "9cd95e00",
   "metadata": {},
   "outputs": [
    {
     "name": "stdout",
     "output_type": "stream",
     "text": [
      "1\n",
      "2\n",
      "3\n",
      "4\n",
      "5\n",
      "6\n"
     ]
    }
   ],
   "source": [
    "for i in x:\n",
    "    if i == 3:\n",
    "        pass\n",
    "    print(i)"
   ]
  },
  {
   "cell_type": "code",
   "execution_count": 35,
   "id": "aa5d68e5",
   "metadata": {},
   "outputs": [
    {
     "data": {
      "text/plain": [
       "list"
      ]
     },
     "execution_count": 35,
     "metadata": {},
     "output_type": "execute_result"
    }
   ],
   "source": [
    "# splitt\n",
    "import re\n",
    "\n",
    "x = 'a,a,a.a.a.a,a,a.a'\n",
    "\n",
    "y = re.split('[,|.]',x)\n",
    "type(y)"
   ]
  },
  {
   "cell_type": "code",
   "execution_count": 42,
   "id": "4c008a9d",
   "metadata": {},
   "outputs": [
    {
     "data": {
      "text/plain": [
       "[1, 2, 3, 4, 5]"
      ]
     },
     "execution_count": 42,
     "metadata": {},
     "output_type": "execute_result"
    }
   ],
   "source": [
    "x = '12345'\n",
    "[int(i) for i in x]"
   ]
  },
  {
   "cell_type": "code",
   "execution_count": 47,
   "id": "806d7277",
   "metadata": {},
   "outputs": [
    {
     "name": "stdout",
     "output_type": "stream",
     "text": [
      "3273122003980007\n",
      "Jenis Kelamin :  Pria\n",
      "Umur :  24 Tahun\n"
     ]
    }
   ],
   "source": [
    "from datetime import date\n",
    "\n",
    "numbs = input()\n",
    "today = date.today()\n",
    "tahun = int(numbs[10:12])\n",
    "\n",
    "if int(numbs[6:8]) < 40:\n",
    "    jenkel = \"Pria\"\n",
    "elif int(numbs[6:8]) > 40:\n",
    "    jenkel = \"Wanita\"\n",
    "    \n",
    "if int(numbs[8]) == 0:\n",
    "    bulan = int(numbs[9])\n",
    "elif int(numbs[8]) == 1:\n",
    "    bulan = int(numbs[8:10])\n",
    "\n",
    "if tahun > 23:\n",
    "    umur = today.year - (tahun + 1900)\n",
    "    if today.month < bulan:\n",
    "        umur -= 1\n",
    "else:\n",
    "    umur = today.year - (tahun + 2000)\n",
    "    if today.month < bulan:\n",
    "        umur -= 1\n",
    "\n",
    "print(\"Jenis Kelamin : \", jenkel) \n",
    "print(\"Umur : \",umur ,\"Tahun\")"
   ]
  },
  {
   "cell_type": "code",
   "execution_count": 3,
   "id": "5964d664",
   "metadata": {},
   "outputs": [
    {
     "name": "stdout",
     "output_type": "stream",
     "text": [
      "5\n",
      "6\n",
      "7\n",
      "8\n",
      "9\n"
     ]
    }
   ],
   "source": [
    "i = 5\n",
    "while i < 10:\n",
    "    print(i)\n",
    "    i+= 1"
   ]
  },
  {
   "cell_type": "code",
   "execution_count": null,
   "id": "5dedce8f",
   "metadata": {},
   "outputs": [],
   "source": []
  }
 ],
 "metadata": {
  "kernelspec": {
   "display_name": "Python 3 (ipykernel)",
   "language": "python",
   "name": "python3"
  },
  "language_info": {
   "codemirror_mode": {
    "name": "ipython",
    "version": 3
   },
   "file_extension": ".py",
   "mimetype": "text/x-python",
   "name": "python",
   "nbconvert_exporter": "python",
   "pygments_lexer": "ipython3",
   "version": "3.9.13"
  }
 },
 "nbformat": 4,
 "nbformat_minor": 5
}
